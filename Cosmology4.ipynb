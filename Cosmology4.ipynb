{
 "cells": [
  {
   "cell_type": "code",
   "execution_count": 1,
   "metadata": {},
   "outputs": [
    {
     "name": "stderr",
     "output_type": "stream",
     "text": [
      "/anaconda3/lib/python3.7/site-packages/ipykernel_launcher.py:65: RuntimeWarning: divide by zero encountered in true_divide\n",
      "/anaconda3/lib/python3.7/site-packages/scipy/integrate/odepack.py:236: ODEintWarning: Excess work done on this call (perhaps wrong Dfun type). Run with full_output = 1 to get quantitative information.\n",
      "  warnings.warn(warning_msg, ODEintWarning)\n"
     ]
    },
    {
     "name": "stdout",
     "output_type": "stream",
     "text": [
      "[0.984598761266081 0.0 0.0 ... 0.0 0.0 0.0]\n"
     ]
    },
    {
     "data": {
      "text/plain": [
       "<Figure size 640x480 with 1 Axes>"
      ]
     },
     "metadata": {},
     "output_type": "display_data"
    },
    {
     "name": "stdout",
     "output_type": "stream",
     "text": [
      "0.9250708771119774\n",
      "0.44138712032646404\n",
      "0.06840467321642436\n",
      "0.06174982282070876\n"
     ]
    }
   ],
   "source": [
    "from scipy.integrate import odeint \n",
    "import matplotlib.pyplot as plt\n",
    "import numpy as np \n",
    "\n",
    "from sympy import symbols, Eq, solve\n",
    "\n",
    "\n",
    "\n",
    "\n",
    "import numpy as np \n",
    "\n",
    "erg_to_eV  = 6.24150913e11\n",
    "k_B        = 8.617333262145e-5\n",
    "Mpc        = 3.08567758e19\n",
    "\n",
    "H_0        = 67/(Mpc)\n",
    "h          = 0.67\n",
    "h_planck   = 4.135667662e-15\n",
    "u          = 1.66053906660e-24\n",
    "m_e        = 9.10938356e-28\n",
    "e          = 4.80320425e-10\n",
    "m_p        = 1.007276466879*u\n",
    "m_H        = 1.00784*u\n",
    "c          = 29979245800\n",
    "B1         = 13.6\n",
    "B2         = B1/2**2\n",
    "gamma_2s   = 8.22458\n",
    "\n",
    "#omega_M_h2 = np.array([0.075,0.15,0.3])\n",
    "#omega_B_h2 = np.array([0.01,0.02,0.04])\n",
    "\n",
    "hh = 0.67\n",
    "omega_B_h2 = 0.02\n",
    "omega_M_h2 = 0.15 \n",
    "\n",
    "omega_R = 4.16e-5 / (hh**2)\n",
    "omega_M = omega_M_h2 / (hh**2)\n",
    "omega_B = omega_B_h2 / (hh**2)\n",
    "\n",
    "\n",
    "omega_R    = 4.16e-5\n",
    "n_b0       = 1.123e-5*omega_B_h2\n",
    "T_CMB      = 2.725\n",
    "lambda_a   = 1215.682e-8\n",
    "\n",
    "T0  = 4226\n",
    "z0  = 1550\n",
    "\n",
    "def n(T):\n",
    "    return 0.76*n_b0*(T/T_CMB)**3\n",
    "\n",
    "def alpha(T):\n",
    "    return 1.4377e-10*T**(-0.6166)/(1+5.085e-10*T**(0.53))\n",
    "\n",
    "def beta(T):\n",
    "     return alpha(T)*(2*np.pi*m_e*erg_to_eV*(k_B*T)/h_planck**2)**(3/2)*np.exp(-B2/(k_B*T))\n",
    "\n",
    "def S(T):\n",
    "    return n(T)*(2*np.pi*m_e*erg_to_eV*(k_B*T)/(h_planck**2))**(-3/2)*np.exp(B1/(k_B*T))\n",
    "\n",
    "def H(T):\n",
    "    return H_0*np.sqrt(omega_M_h2/h**2*(T/T_CMB)**3 + omega_R*(T/T_CMB)**4)\n",
    "\n",
    "def g(X, T):\n",
    "    return alpha(T)*n(T)/(T*H(T))*(1+beta(T)/(gamma_2s+8*np.pi*H(T)/(lambda_a**3.*n(T)*(1-X))))**(-1)\n",
    "\n",
    "def dXdT(X, T):\n",
    "    return g(X,T)*(X**2 - (1-X)/S(T))\n",
    "\n",
    "\n",
    "# In[3]:\n",
    "\n",
    "\n",
    "from scipy.integrate import odeint \n",
    "import matplotlib.pyplot as plt\n",
    "import numpy as np \n",
    "\n",
    "from sympy import symbols, Eq, solve\n",
    "\n",
    "\n",
    "T = np.linspace(T_CMB, 4226, 10000)\n",
    "T0 = 4226\n",
    "X0 = 1\n",
    "\n",
    "X = odeint(dXdT, X0, T)\n",
    "\n",
    "\n",
    "# In[27]:\n",
    "\n",
    "\n",
    "T = np.linspace( 4226, T_CMB , 10000)\n",
    "T0 = 4226\n",
    "X0 = 1\n",
    "\n",
    "a=symbols('a')\n",
    "Xeq0 = solve(a*(1+S(T0)*a)-1);\n",
    "Xeq0 = Xeq0[1]\n",
    "\n",
    "\n",
    "#Euler's method\n",
    "\n",
    "X    = np.append([Xeq0], np.zeros(len(T)-1))\n",
    "Xeq  = np.append([Xeq0], np.zeros(len(T)-1))\n",
    "\n",
    "delT = T[2]-T[1]\n",
    "\n",
    "print(Xeq)\n",
    "\n",
    "for ii in range (len(T)-1) :\n",
    "    \n",
    "    X[ii+1] = X[ii]+delT*dXdT(X[ii], T[ii])\n",
    "   \n",
    "    temp = solve(a*(1+S(T[ii])*a)-1)\n",
    "    Xeq[ii] = temp[-1]\n",
    "    \n",
    "#    if find(ii == T_comp)\n",
    "#        disp([T(ii) X(ii) Xeq(ii)])\n",
    "\n",
    "        \n",
    "\n",
    "#ax=plt.subplot(111)\n",
    "#ax.plot(T,X)\n",
    "#ax.set_xlabel('T')\n",
    "#ax.set_ylabel('X')\n",
    "#ax.set_ylim(0,)\n",
    "\n",
    "plt.show()\n",
    "\n",
    "\n",
    "# In[73]:\n",
    "\n",
    "\n",
    "import scipy\n",
    "from scipy.interpolate import interp1d\n",
    "\n",
    "\n",
    "ax=plt.subplot(111)\n",
    "ax.plot(T,X,'b',T,Xeq,'g--')\n",
    "ax.set_xlabel('T')\n",
    "ax.set_ylabel('X and Xeq')\n",
    "#ax.set_yscale('log')\n",
    "ax.set_ylim(0,1.01)\n",
    "plt.show()\n",
    "\n",
    "X_interp = scipy.interpolate.interp1d(T, X)\n",
    "\n",
    "print(X_interp(4000))\n",
    "print(X_interp(3400))\n",
    "print(X_interp(2800))\n",
    "\n",
    "error = (X_interp(4000) - 0.9245)/0.9245\n",
    "\n",
    "print(error*100)"
   ]
  },
  {
   "cell_type": "markdown",
   "metadata": {},
   "source": [
    "# Part 1"
   ]
  },
  {
   "cell_type": "code",
   "execution_count": 26,
   "metadata": {},
   "outputs": [
    {
     "data": {
      "image/png": "[encoded data removed]",
      "text/plain": [
       "<Figure size 432x288 with 1 Axes>"
      ]
     },
     "metadata": {
      "needs_background": "light"
     },
     "output_type": "display_data"
    },
    {
     "name": "stdout",
     "output_type": "stream",
     "text": [
      "The residual X when z=10 (when T = 29.975) is : 0.00022516111710768852 , (or 2.25e-4)\n"
     ]
    }
   ],
   "source": [
    "import pylab\n",
    "\n",
    "ax=plt.subplot(111)\n",
    "ax.plot(T,X,'b',T,Xeq,'g--')\n",
    "ax.set_xlabel('T')\n",
    "ax.set_ylabel('X and Xeq')\n",
    "#ax.set_yscale('log')\n",
    "ax.set_ylim(0,1.01)\n",
    "\n",
    "\n",
    "X_interp = scipy.interpolate.interp1d(T, X)\n",
    "Xeq_interp = scipy.interpolate.interp1d(T, Xeq)\n",
    "\n",
    "\n",
    "pylab.plot(T, X, 'b', label='X')\n",
    "pylab.plot(T, Xeq, '-g', label='Xeq')\n",
    "pylab.legend(loc='upper left')\n",
    "\n",
    "plt.show()\n",
    "\n",
    "\n",
    "\n",
    "print('The residual X when z=10 (when T = 29.975) is :', X_interp(29.975), ', (or 2.25e-4)')\n"
   ]
  },
  {
   "cell_type": "markdown",
   "metadata": {},
   "source": [
    "# Part 2"
   ]
  },
  {
   "cell_type": "code",
   "execution_count": 27,
   "metadata": {},
   "outputs": [
    {
     "name": "stdout",
     "output_type": "stream",
     "text": [
      "The minimum of the function is: 13700.995080195671  >> 1 , so the approximation is justified\n"
     ]
    },
    {
     "data": {
      "image/png": "[encoded data removed]",
      "text/plain": [
       "<Figure size 432x288 with 1 Axes>"
      ]
     },
     "metadata": {
      "needs_background": "light"
     },
     "output_type": "display_data"
    }
   ],
   "source": [
    "import scipy\n",
    "from scipy.interpolate import interp1d\n",
    "\n",
    "gam2p = 4.699e8 \n",
    "\n",
    "def f(T):\n",
    "    return (3* gam2p * (lambda_a)**3 * (1-X_interp(T)) * n(T))/(8 * np.pi * H(T)) \n",
    "\n",
    "f_interp = scipy.interpolate.interp1d(T, f(T))\n",
    "\n",
    "ax=plt.subplot(111)\n",
    "ax.plot(T,f_interp(T),'g')\n",
    "ax.set_xlabel('T')\n",
    "ax.set_ylabel('f')\n",
    "ax.set_title('Part 2')\n",
    "\n",
    "\n",
    "print('The minimum of the function is:',min(f(T)), ' >> 1 , so the approximation is justified')"
   ]
  },
  {
   "cell_type": "markdown",
   "metadata": {},
   "source": [
    "# Part 3"
   ]
  },
  {
   "cell_type": "code",
   "execution_count": 32,
   "metadata": {},
   "outputs": [],
   "source": [
    "sigT = (8*np.pi/3) * (e**2 / (m_e * c**2))**2\n",
    "\n",
    "def dtaudT(T):\n",
    "    return (c * sigT * X(T) * n(T)) / (T * H(T)) \n",
    "\n",
    "def tau(T):\n",
    "    "
   ]
  },
  {
   "cell_type": "code",
   "execution_count": null,
   "metadata": {},
   "outputs": [],
   "source": []
  }
 ],
 "metadata": {
  "kernelspec": {
   "display_name": "Python 3",
   "language": "python",
   "name": "python3"
  },
  "language_info": {
   "codemirror_mode": {
    "name": "ipython",
    "version": 3
   },
   "file_extension": ".py",
   "mimetype": "text/x-python",
   "name": "python",
   "nbconvert_exporter": "python",
   "pygments_lexer": "ipython3",
   "version": "3.7.1"
  }
 },
 "nbformat": 4,
 "nbformat_minor": 2
}
